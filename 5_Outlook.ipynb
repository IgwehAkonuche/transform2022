{
 "cells": [
  {
   "cell_type": "markdown",
   "id": "96de2fc5-1096-44ca-9860-3d98dd386162",
   "metadata": {},
   "source": [
    "<div>\n",
    "    <div style=\"float:left;width:50%;text-align:center\">\n",
    "        <h1>pyGIMLi Tutorial @ Transform 2022</h1>\n",
    "        <div>\n",
    "<table style=\"border-collapse:collapse;border-color:#ccc;border-spacing:0\" class=\"tg\"><thead><tr><th style=\"background-color:#f0f0f0;border-color:#ccc;border-style:solid;border-width:1px;color:#333;font-family:Arial, sans-serif;font-size:14px;font-weight:bold;overflow:hidden;padding:10px 5px;text-align:left;vertical-align:middle;word-break:normal\"></th><th style=\"background-color:#f0f0f0;border-color:#ccc;border-style:solid;border-width:1px;color:#333;font-family:Arial, sans-serif;font-size:14px;font-weight:bold;overflow:hidden;padding:10px 5px;text-align:left;vertical-align:middle;word-break:normal\">Info</th></tr></thead><tbody><tr><td style=\"background-color:#f9f9f9;border-color:#ccc;border-style:solid;border-width:1px;color:#333;font-family:Arial, sans-serif;font-size:14px;font-weight:bold;overflow:hidden;padding:10px 5px;text-align:left;vertical-align:middle;word-break:normal\">When</td><td style=\"background-color:#f9f9f9;border-color:#ccc;border-style:solid;border-width:1px;color:#333;font-family:Arial, sans-serif;font-size:14px;overflow:hidden;padding:10px 5px;text-align:left;vertical-align:middle;word-break:normal\">Tuesday, April 28 • 17:00 - 19:00 UTC (starts at 10.00 a.m. CET)</td></tr><tr><td style=\"background-color:#fff;border-color:#ccc;border-style:solid;border-width:1px;color:#333;font-family:Arial, sans-serif;font-size:14px;font-weight:bold;overflow:hidden;padding:10px 5px;text-align:left;vertical-align:middle;word-break:normal\">Slack (Q&amp;A)</td><td style=\"background-color:#fff;border-color:#ccc;border-style:solid;border-width:1px;color:#333;font-family:Arial, sans-serif;font-size:14px;overflow:hidden;padding:10px 5px;text-align:left;text-decoration:underline;vertical-align:top;word-break:normal\"><a href=\"https://softwareunderground.org/\">Software Underground</a> channel <a href=\"https://app.slack.com/client/T094HBB9T/C039C3J7Y1M\">#t22-mon-pygimli</a></td></tr><tr><td style=\"background-color:#f9f9f9;border-color:#ccc;border-style:solid;border-width:1px;color:#333;font-family:Arial, sans-serif;font-size:14px;font-weight:bold;overflow:hidden;padding:10px 5px;text-align:left;vertical-align:middle;word-break:normal\">Live stream</td><td style=\"background-color:#f9f9f9;border-color:#ccc;border-style:solid;border-width:1px;color:#333;font-family:Arial, sans-serif;font-size:14px;overflow:hidden;padding:10px 5px;text-align:left;text-decoration:underline;vertical-align:top;word-break:normal\"><a href=\"https://youtu.be/2Hu4gDnRzlU\">https://youtu.be/2Hu4gDnRzlU</a></td></tr><tr><td style=\"background-color:#fff;border-color:#ccc;border-style:solid;border-width:1px;color:#333;font-family:Arial, sans-serif;font-size:14px;font-weight:bold;overflow:hidden;padding:10px 5px;text-align:left;vertical-align:middle;word-break:normal\">pyGIMLi documentation</td><td style=\"background-color:#fff;border-color:#ccc;border-style:solid;border-width:1px;color:#333;font-family:Arial, sans-serif;font-size:14px;overflow:hidden;padding:10px 5px;text-align:left;text-decoration:underline;vertical-align:top;word-break:normal\"><a href=\"https://www.pygimli.org/documentation.html\">https://www.pygimli.org/documentation.html</a></td></tr></tbody></table>\n",
    "        </div>\n",
    "    </div>\n",
    "    <div style=\"float:right;width:30%\">\n",
    "        <img src=\"https://www.pygimli.org/_images/pg_logo.png\" alt=\"pyGIMLi logo\">\n",
    "    </div>\n",
    "</div>"
   ]
  },
  {
   "cell_type": "code",
   "execution_count": 1,
   "id": "2b7a1c05-9b3b-45a8-a8b3-b4e9da3a8318",
   "metadata": {},
   "outputs": [],
   "source": [
    "# Just some plotting settings\n",
    "import matplotlib.pyplot as plt\n",
    "plt.style.use(\"seaborn-notebook\")\n",
    "%config InlineBackend.figure_format='svg' # Setting figure format for this notebook"
   ]
  },
  {
   "cell_type": "code",
   "execution_count": 2,
   "id": "8a51713e-7c11-4e3d-88cd-fe867fc937c1",
   "metadata": {},
   "outputs": [],
   "source": [
    "import numpy as np\n",
    "import pygimli as pg"
   ]
  },
  {
   "cell_type": "markdown",
   "id": "f5f16499-d80b-437a-a797-4eaa94ae8481",
   "metadata": {},
   "source": [
    "### Overall take-away\n",
    "* pyGIMLi is rather a toolbox to solve problems\n",
    "* problem-specific regularization is of importance\n",
    "* matrices are the key to sophisticated & efficient inversion\n",
    "* use pyGIMLi to solve your own problems\n",
    "* publish your research in reproducible way\n",
    "* contribute with your ideas and solutions\n",
    "* become a member of the community"
   ]
  },
  {
   "cell_type": "markdown",
   "id": "511696db-391b-425f-abb9-3ca94fb8727d",
   "metadata": {},
   "source": [
    "We have looked into regularization and how to use it for specific problems. The joint inversion framework is used to combine data with the same target parameter."
   ]
  },
  {
   "cell_type": "markdown",
   "id": "4207c275-ef3a-49d5-827a-95d31188d4da",
   "metadata": {},
   "source": [
    "### Further topics"
   ]
  },
  {
   "cell_type": "markdown",
   "id": "8d297a1f-4fc8-4e0b-8e38-151c2e9bbc55",
   "metadata": {},
   "source": [
    "Other frameworks to be used:\n",
    "* petrophysical inversion: formulate problem in target parameters\n",
    "  (e.g. do petrophysical joint inversion)\n",
    "* joint inversion on 1D block models\n",
    "* laterally or spatially constrained 1D inversion\n",
    "* full frame-constrained (along time or frequency axis) inversion "
   ]
  },
  {
   "cell_type": "markdown",
   "id": "0d3172c7-2b8c-4443-855d-18215743e82e",
   "metadata": {},
   "source": [
    "### Other packages in the pyGIMLi environment"
   ]
  },
  {
   "cell_type": "markdown",
   "id": "cbd11363-8e90-453a-9f59-6845b6b6aac9",
   "metadata": {},
   "source": [
    "#### BERT Boundless Electrical Resistivity Tomography\n",
    "https://gitlab.com/resistivity-net/bert\n",
    "\n",
    "* standard ERT is fully integrated in pyGIMLi\n",
    "* complex-valued inversion also implemented in pg\n",
    "* lots of example data, scripts and user stories\n",
    "* more importers for specific file formats\n",
    "* class for frequency-domain field induced polarization data\n",
    "* class for time-domain field induced polarization data"
   ]
  },
  {
   "cell_type": "markdown",
   "id": "12546ff8-8f63-4162-82ee-4add298e1e51",
   "metadata": {},
   "source": [
    "#### REDA - Reproducible Electrical Data Analysis\n",
    "https://github.com/geophysics-ubonn/reda\n",
    "* interface to different file formats\n",
    "* drives different ERT software\n",
    "* processing of time-lapse data sets"
   ]
  },
  {
   "cell_type": "markdown",
   "id": "187704cf-006d-4ed7-8be6-6cd1e6863f0d",
   "metadata": {},
   "source": [
    "#### COMET - Coupled Magnetic Resonance & Electrical Resistivity Tomography\n",
    "https://gitlab.com/Skibbe/comet\n",
    "* Magnetic Resonance Modelling and Inversion in 1D/2D/3D\n",
    "* arbitrary loop setups or dipoles\n",
    "* Structurally Coupled Cooperative Inversion (SCCI) framework\n",
    "* "
   ]
  },
  {
   "cell_type": "markdown",
   "id": "c371a1ce-c9ac-4b75-aed4-28d516fe4e0b",
   "metadata": {},
   "source": [
    "#### custEM - customizable electromagnetic modelling toolbox\n",
    "https://gitlab.com/Rochlitz.R/custEM\n",
    "* modelling electromagnetic data using FEniCS library\n",
    "* supports CSEM, TDEM and MT\n",
    "* arbitrary geometry of subsurface, topography, transmitter, receiver\n",
    "* extensive module for mesh generation based on pyGIMLi & TetGen\n",
    "* 3D inversion of CSEM data\n",
    "* 2D inversion using 3D forward modelling"
   ]
  },
  {
   "cell_type": "markdown",
   "id": "fb55ea8f-86bd-4cc1-879c-a9887e179f94",
   "metadata": {},
   "source": [
    "#### SAEM - Semi-airborne electromagnetics\n",
    "https://github.com/LIAG-S2/SAEM\n",
    "\n",
    "* processing and visualization of semi-airborne EM data\n",
    "* 1D inversion using empymod\n",
    "* link to 2D/3D inversion with custEM\n",
    "* post-processing and visualization of data and results"
   ]
  }
 ],
 "metadata": {
  "kernelspec": {
   "display_name": "Python 3 (ipykernel)",
   "language": "python",
   "name": "python3"
  },
  "language_info": {
   "codemirror_mode": {
    "name": "ipython",
    "version": 3
   },
   "file_extension": ".py",
   "mimetype": "text/x-python",
   "name": "python",
   "nbconvert_exporter": "python",
   "pygments_lexer": "ipython3",
   "version": "3.8.13"
  }
 },
 "nbformat": 4,
 "nbformat_minor": 5
}
